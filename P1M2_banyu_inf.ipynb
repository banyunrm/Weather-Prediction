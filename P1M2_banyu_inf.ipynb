{
 "cells": [
  {
   "cell_type": "markdown",
   "metadata": {},
   "source": [
    "## **Data Inference**"
   ]
  },
  {
   "cell_type": "markdown",
   "metadata": {},
   "source": [
    "### **1. Import Library**"
   ]
  },
  {
   "cell_type": "code",
   "execution_count": 11,
   "metadata": {},
   "outputs": [],
   "source": [
    "# Import library yang dibutuhkan\n",
    "import pandas as pd\n",
    "import numpy as np\n",
    "import pickle"
   ]
  },
  {
   "cell_type": "markdown",
   "metadata": {},
   "source": [
    "### **2. Create Dummy Data**"
   ]
  },
  {
   "cell_type": "markdown",
   "metadata": {},
   "source": [
    "Tujuan dari pembuatan ``Data dummy`` sendiri yaitu data buatan atau palsu yang dibuat ``untuk mensimulasikan data nyata``"
   ]
  },
  {
   "cell_type": "code",
   "execution_count": 12,
   "metadata": {},
   "outputs": [
    {
     "name": "stdout",
     "output_type": "stream",
     "text": [
      "Dummy Data for Inference:\n"
     ]
    },
    {
     "data": {
      "text/html": [
       "<div>\n",
       "<style scoped>\n",
       "    .dataframe tbody tr th:only-of-type {\n",
       "        vertical-align: middle;\n",
       "    }\n",
       "\n",
       "    .dataframe tbody tr th {\n",
       "        vertical-align: top;\n",
       "    }\n",
       "\n",
       "    .dataframe thead th {\n",
       "        text-align: right;\n",
       "    }\n",
       "</style>\n",
       "<table border=\"1\" class=\"dataframe\">\n",
       "  <thead>\n",
       "    <tr style=\"text-align: right;\">\n",
       "      <th></th>\n",
       "      <th>cloud_cover</th>\n",
       "      <th>season</th>\n",
       "      <th>location</th>\n",
       "      <th>temp</th>\n",
       "      <th>humidity</th>\n",
       "      <th>wind_speed</th>\n",
       "      <th>precipitation_pct</th>\n",
       "      <th>atm_pressure</th>\n",
       "      <th>uv_index</th>\n",
       "      <th>visibility_km</th>\n",
       "    </tr>\n",
       "  </thead>\n",
       "  <tbody>\n",
       "    <tr>\n",
       "      <th>0</th>\n",
       "      <td>Cloudy</td>\n",
       "      <td>Summer</td>\n",
       "      <td>Rural</td>\n",
       "      <td>7.830850</td>\n",
       "      <td>55.561256</td>\n",
       "      <td>6.704842</td>\n",
       "      <td>91.735808</td>\n",
       "      <td>1026.796867</td>\n",
       "      <td>3.564372</td>\n",
       "      <td>2.568377</td>\n",
       "    </tr>\n",
       "    <tr>\n",
       "      <th>1</th>\n",
       "      <td>Cloudy</td>\n",
       "      <td>Autumn</td>\n",
       "      <td>Rural</td>\n",
       "      <td>39.767747</td>\n",
       "      <td>37.642024</td>\n",
       "      <td>11.908766</td>\n",
       "      <td>81.897594</td>\n",
       "      <td>954.778498</td>\n",
       "      <td>6.344932</td>\n",
       "      <td>0.571346</td>\n",
       "    </tr>\n",
       "    <tr>\n",
       "      <th>2</th>\n",
       "      <td>Cloudy</td>\n",
       "      <td>Winter</td>\n",
       "      <td>Urban</td>\n",
       "      <td>9.407220</td>\n",
       "      <td>2.662436</td>\n",
       "      <td>6.322668</td>\n",
       "      <td>16.318089</td>\n",
       "      <td>907.174635</td>\n",
       "      <td>6.959150</td>\n",
       "      <td>3.877082</td>\n",
       "    </tr>\n",
       "    <tr>\n",
       "      <th>3</th>\n",
       "      <td>Cloudy</td>\n",
       "      <td>Summer</td>\n",
       "      <td>Urban</td>\n",
       "      <td>9.559455</td>\n",
       "      <td>49.414912</td>\n",
       "      <td>6.925008</td>\n",
       "      <td>2.415477</td>\n",
       "      <td>939.621868</td>\n",
       "      <td>6.561078</td>\n",
       "      <td>3.570967</td>\n",
       "    </tr>\n",
       "    <tr>\n",
       "      <th>4</th>\n",
       "      <td>Clear</td>\n",
       "      <td>Winter</td>\n",
       "      <td>Rural</td>\n",
       "      <td>25.163993</td>\n",
       "      <td>83.471509</td>\n",
       "      <td>4.896636</td>\n",
       "      <td>78.465363</td>\n",
       "      <td>969.580074</td>\n",
       "      <td>1.516096</td>\n",
       "      <td>9.863841</td>\n",
       "    </tr>\n",
       "    <tr>\n",
       "      <th>5</th>\n",
       "      <td>Clear</td>\n",
       "      <td>Winter</td>\n",
       "      <td>Urban</td>\n",
       "      <td>29.398103</td>\n",
       "      <td>36.698733</td>\n",
       "      <td>13.959003</td>\n",
       "      <td>26.485738</td>\n",
       "      <td>1004.003259</td>\n",
       "      <td>6.798011</td>\n",
       "      <td>9.395906</td>\n",
       "    </tr>\n",
       "    <tr>\n",
       "      <th>6</th>\n",
       "      <td>Clear</td>\n",
       "      <td>Summer</td>\n",
       "      <td>Urban</td>\n",
       "      <td>27.533775</td>\n",
       "      <td>51.538211</td>\n",
       "      <td>4.241617</td>\n",
       "      <td>33.936706</td>\n",
       "      <td>947.015513</td>\n",
       "      <td>5.428101</td>\n",
       "      <td>5.827752</td>\n",
       "    </tr>\n",
       "    <tr>\n",
       "      <th>7</th>\n",
       "      <td>Cloudy</td>\n",
       "      <td>Summer</td>\n",
       "      <td>Rural</td>\n",
       "      <td>1.245230</td>\n",
       "      <td>47.237913</td>\n",
       "      <td>5.345863</td>\n",
       "      <td>81.436959</td>\n",
       "      <td>969.380518</td>\n",
       "      <td>1.579733</td>\n",
       "      <td>9.931031</td>\n",
       "    </tr>\n",
       "    <tr>\n",
       "      <th>8</th>\n",
       "      <td>Cloudy</td>\n",
       "      <td>Summer</td>\n",
       "      <td>Rural</td>\n",
       "      <td>36.100554</td>\n",
       "      <td>38.615209</td>\n",
       "      <td>7.477882</td>\n",
       "      <td>80.745472</td>\n",
       "      <td>1022.953148</td>\n",
       "      <td>0.339041</td>\n",
       "      <td>9.899145</td>\n",
       "    </tr>\n",
       "    <tr>\n",
       "      <th>9</th>\n",
       "      <td>Clear</td>\n",
       "      <td>Summer</td>\n",
       "      <td>Rural</td>\n",
       "      <td>11.457413</td>\n",
       "      <td>74.413700</td>\n",
       "      <td>11.461770</td>\n",
       "      <td>49.356164</td>\n",
       "      <td>1002.673654</td>\n",
       "      <td>10.330713</td>\n",
       "      <td>8.650564</td>\n",
       "    </tr>\n",
       "  </tbody>\n",
       "</table>\n",
       "</div>"
      ],
      "text/plain": [
       "  cloud_cover  season location       temp   humidity  wind_speed  \\\n",
       "0      Cloudy  Summer    Rural   7.830850  55.561256    6.704842   \n",
       "1      Cloudy  Autumn    Rural  39.767747  37.642024   11.908766   \n",
       "2      Cloudy  Winter    Urban   9.407220   2.662436    6.322668   \n",
       "3      Cloudy  Summer    Urban   9.559455  49.414912    6.925008   \n",
       "4       Clear  Winter    Rural  25.163993  83.471509    4.896636   \n",
       "5       Clear  Winter    Urban  29.398103  36.698733   13.959003   \n",
       "6       Clear  Summer    Urban  27.533775  51.538211    4.241617   \n",
       "7      Cloudy  Summer    Rural   1.245230  47.237913    5.345863   \n",
       "8      Cloudy  Summer    Rural  36.100554  38.615209    7.477882   \n",
       "9       Clear  Summer    Rural  11.457413  74.413700   11.461770   \n",
       "\n",
       "   precipitation_pct  atm_pressure   uv_index  visibility_km  \n",
       "0          91.735808   1026.796867   3.564372       2.568377  \n",
       "1          81.897594    954.778498   6.344932       0.571346  \n",
       "2          16.318089    907.174635   6.959150       3.877082  \n",
       "3           2.415477    939.621868   6.561078       3.570967  \n",
       "4          78.465363    969.580074   1.516096       9.863841  \n",
       "5          26.485738   1004.003259   6.798011       9.395906  \n",
       "6          33.936706    947.015513   5.428101       5.827752  \n",
       "7          81.436959    969.380518   1.579733       9.931031  \n",
       "8          80.745472   1022.953148   0.339041       9.899145  \n",
       "9          49.356164   1002.673654  10.330713       8.650564  "
      ]
     },
     "execution_count": 12,
     "metadata": {},
     "output_type": "execute_result"
    }
   ],
   "source": [
    "\n",
    "# Menghasilkan data dummy \n",
    "np.random.seed(30)\n",
    "data_dummy = pd.DataFrame({\n",
    "    'cloud_cover': np.random.choice(['Clear', 'Cloudy', 'Cloudy', 'Clear'], size=10),  # Disesuaikan\n",
    "    'season': np.random.choice(['Spring', 'Summer', 'Autumn', 'Winter'], size=10),\n",
    "    'location': np.random.choice(['Urban', 'Suburban', 'Rural'], size=10),\n",
    "    'temp': np.random.uniform(0, 40, size=10),\n",
    "    'humidity': np.random.uniform(0, 100, size=10),\n",
    "    'wind_speed': np.random.uniform(0, 20, size=10),\n",
    "    'precipitation_pct': np.random.uniform(0, 100, size=10),\n",
    "    'atm_pressure': np.random.uniform(900, 1050, size=10),\n",
    "    'uv_index': np.random.uniform(0, 11, size=10),\n",
    "    'visibility_km': np.random.uniform(0, 10, size=10)\n",
    "})\n",
    "\n",
    "print(\"Dummy Data for Inference:\")\n",
    "data_dummy"
   ]
  },
  {
   "cell_type": "markdown",
   "metadata": {},
   "source": [
    "### **3. Save the Dummy Data**"
   ]
  },
  {
   "cell_type": "code",
   "execution_count": 13,
   "metadata": {},
   "outputs": [],
   "source": [
    "# Simpan data dummy ke file csv \n",
    "data_dummy.to_csv('data_dummy_inf.csv', index=False)"
   ]
  },
  {
   "cell_type": "markdown",
   "metadata": {},
   "source": [
    "### **4. Load Model**"
   ]
  },
  {
   "cell_type": "code",
   "execution_count": 14,
   "metadata": {},
   "outputs": [],
   "source": [
    "# Memuat kembali model yang telah disimpan\n",
    "with open('best_model_rf.pkl', 'rb') as file:\n",
    "    best_model_rf = pickle.load(file)\n"
   ]
  },
  {
   "cell_type": "markdown",
   "metadata": {},
   "source": [
    "### **5. Prediction**"
   ]
  },
  {
   "cell_type": "code",
   "execution_count": 15,
   "metadata": {},
   "outputs": [
    {
     "name": "stdout",
     "output_type": "stream",
     "text": [
      "Predictions using the best model on dummy data:\n"
     ]
    },
    {
     "data": {
      "text/plain": [
       "array(['Sunny', 'Sunny', 'Sunny', 'Sunny', 'Cloudy', 'Sunny', 'Sunny',\n",
       "       'Snowy', 'Rainy', 'Cloudy'], dtype=object)"
      ]
     },
     "execution_count": 15,
     "metadata": {},
     "output_type": "execute_result"
    }
   ],
   "source": [
    "# Melakukan prediksi menggunakan model terbaik pada data dummy\n",
    "predictions = best_model_rf.predict(data_dummy)\n",
    "print(\"Predictions using the best model on dummy data:\")\n",
    "predictions"
   ]
  },
  {
   "cell_type": "markdown",
   "metadata": {},
   "source": [
    "**Bisa disimpulkan bahwa:**\n",
    "\n",
    "**1. Distribusi Prediksi**\n",
    "\n",
    "* Dari 10 sampel data dummy yang diuji, model terbaik memberikan prediksi sebagai berikut:<br>\n",
    "``Sunny: 6 kali``<br>\n",
    "``Cloudy: 2 kali``<br>\n",
    "``Snowy: 1 kali``<br>\n",
    "``Rainy: 1 kali``\n",
    "\n",
    "**2. Dominasi Prediksi**\n",
    "\n",
    "* ``Prediksi Sunny mendominasi hasil dengan 60% dari total prediksi.`` Ini menunjukkan bahwa model cenderung mengklasifikasikan kondisi cuaca sebagai Sunny lebih sering dibandingkan kategori lainnya dalam sampel ini\n",
    "\n",
    "**3. Prediksi Beragam**\n",
    "\n",
    "* ``Meskipun Sunny mendominasi, model juga memberikan prediksi untuk kondisi cuaca lainnya seperti Cloudy, Snowy, dan Rainy.`` Ini menunjukkan bahwa model memiliki kemampuan untuk membedakan berbagai jenis cuaca meskipun dengan proporsi yang berbeda"
   ]
  }
 ],
 "metadata": {
  "kernelspec": {
   "display_name": "Python 3.9.13 ('base')",
   "language": "python",
   "name": "python3"
  },
  "language_info": {
   "codemirror_mode": {
    "name": "ipython",
    "version": 3
   },
   "file_extension": ".py",
   "mimetype": "text/x-python",
   "name": "python",
   "nbconvert_exporter": "python",
   "pygments_lexer": "ipython3",
   "version": "3.9.13"
  },
  "orig_nbformat": 4,
  "vscode": {
   "interpreter": {
    "hash": "ad2bdc8ecc057115af97d19610ffacc2b4e99fae6737bb82f5d7fb13d2f2c186"
   }
  }
 },
 "nbformat": 4,
 "nbformat_minor": 2
}
